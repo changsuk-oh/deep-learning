{
  "nbformat": 4,
  "nbformat_minor": 0,
  "metadata": {
    "colab": {
      "provenance": [],
      "gpuType": "T4"
    },
    "kernelspec": {
      "name": "python3",
      "display_name": "Python 3"
    },
    "language_info": {
      "name": "python"
    },
    "accelerator": "GPU"
  },
  "cells": [
    {
      "cell_type": "markdown",
      "source": [
        "3장 단층 신경망"
      ],
      "metadata": {
        "id": "nYAVKNKJ-MfE"
      }
    },
    {
      "cell_type": "code",
      "source": [
        "# 예제 3.3 델타 학습법 OR 연산\n",
        "\n",
        "import numpy as np\n",
        "np.random.seed(77)\n",
        "\n",
        "# sigmoid 함수 정의\n",
        "def sigmoid(net):\n",
        "    return  1 / (1 + np.exp(-net))\n",
        "\n",
        "# 뉴런 정의\n",
        "def neuron(x, w, b):\n",
        "    net = np.dot(x, w) + b   # 입력 가중합\n",
        "    return sigmoid(net)\n",
        "\n",
        "# 학습 데이터 준비\n",
        "x_train = np.array([[0, 0], [0, 1], [1, 0], [1, 1]])   # 입력 데이터\n",
        "y_train = np.array([[0], [1], [1], [1]])               # 목표치(정답)\n",
        "\n",
        "# 가중치 초기화\n",
        "w = np.random.rand(2)   # 균등 분포\n",
        "b = np.random.rand(1)\n",
        "\n",
        "print(f\"initial weights: {w.round(2)}\")\n",
        "print(f\"initial bias: {b.round(2)}\")"
      ],
      "metadata": {
        "colab": {
          "base_uri": "https://localhost:8080/"
        },
        "id": "dMuQGwVl7NEX",
        "outputId": "831ec96d-1686-446b-fbdd-315fff193b22"
      },
      "execution_count": null,
      "outputs": [
        {
          "output_type": "stream",
          "name": "stdout",
          "text": [
            "initial weights: [0.92 0.64]\n",
            "initial bias: [0.75]\n"
          ]
        }
      ]
    },
    {
      "cell_type": "code",
      "source": [
        "# 델타 학습법을 이용한 신경망 학습\n",
        "epochs = 5000         # 5,000회 반복\n",
        "learning_rate = 0.1   # 학습률 0.1\n",
        "\n",
        "for i in range(epochs):\n",
        "    loss = 0\n",
        "\n",
        "    for j in range(4):\n",
        "        output = neuron(x_train[j], w, b)          # 출력 구함\n",
        "        error = 0.5 * (y_train[j] - output) ** 2   # 제곱 오차 계산\n",
        "        w += learning_rate * (y_train[j] - output) * output * \\\n",
        "             (1 - output) * x_train[j]                   # 가중치 변경\n",
        "        b += learning_rate * (y_train[j] - output) * \\   # 바이어스 변경\n",
        "             output * (1 - output)\n",
        "        loss += error\n",
        "\n",
        "    if (i+1) % 1000 == 0:\n",
        "        print(f\"Epoch {i+1} \\t Error: {loss.round(3)}\")   # 오차 출력\n",
        "\n",
        "print(f\"\\nfinal weights: {w.round(2)}\")\n",
        "print(f\"final bias: {b.round(2)}\")"
      ],
      "metadata": {
        "colab": {
          "base_uri": "https://localhost:8080/"
        },
        "outputId": "8afa0a8c-5af2-4152-d7f7-2188b0bab0d4",
        "id": "tnqZMe5pLK3V"
      },
      "execution_count": null,
      "outputs": [
        {
          "output_type": "stream",
          "name": "stdout",
          "text": [
            "Epoch 1000 \t Error: [0.035]\n",
            "Epoch 2000 \t Error: [0.016]\n",
            "Epoch 3000 \t Error: [0.01]\n",
            "Epoch 4000 \t Error: [0.007]\n",
            "Epoch 5000 \t Error: [0.006]\n",
            "\n",
            "final weights: [5.38 5.38]\n",
            "final bias: [-2.43]\n"
          ]
        }
      ]
    },
    {
      "cell_type": "code",
      "source": [
        "# 검증(예측)\n",
        "x_test = np.array([[0, 0], [0, 1], [1, 0], [1, 1]])   # 테스트 데이터\n",
        "y_test = np.array([[0], [1], [1], [1]])               # 테스트 정답\n",
        "\n",
        "for i in range(4):\n",
        "    predict = neuron(x_test[i], w, b)   # 예측\n",
        "\n",
        "    print(f\"x: {x_test[i]}  y: {y_test[i]}  predict: {predict.round(2)}\")"
      ],
      "metadata": {
        "colab": {
          "base_uri": "https://localhost:8080/"
        },
        "id": "zJmmOUKf_ABo",
        "outputId": "044422c4-4c29-4676-9d06-4071ace7562f"
      },
      "execution_count": null,
      "outputs": [
        {
          "output_type": "stream",
          "name": "stdout",
          "text": [
            "x: [0 0]  y: [0]  predict: [0.08]\n",
            "x: [0 1]  y: [1]  predict: [0.95]\n",
            "x: [1 0]  y: [1]  predict: [0.95]\n",
            "x: [1 1]  y: [1]  predict: [1.]\n"
          ]
        }
      ]
    },
    {
      "cell_type": "code",
      "source": [
        "# 예제 3.5 단층 신경망 이진 분류기(OR 연산)\n",
        "\n",
        "# 셋업\n",
        "import tensorflow as tf\n",
        "from tensorflow.keras.models import Sequential\n",
        "from tensorflow.keras.layers import Dense\n",
        "from tensorflow.keras.initializers import RandomUniform\n",
        "from tensorflow.keras.optimizers import Adam\n",
        "import numpy as np\n",
        "\n",
        "# 학습 데이터 준비\n",
        "x_train = np.array([[0, 0], [0, 1], [1, 0], [1, 1]])   # 학습 데이터\n",
        "y_train = np.array([[0], [1], [1], [1]])               # 레이블(정답)\n",
        "\n",
        "# 모델 생성\n",
        "model = Sequential([\n",
        "    Dense(1,                                           # 출력층 뉴런 1개\n",
        "          activation='sigmoid',                        # sigmoid 함수 사용\n",
        "          kernel_initializer=RandomUniform(seed=77),   # 가중치 초기화\n",
        "          input_shape=(2, ), name='Output_Layer')      # 입력 shape 지정\n",
        "])"
      ],
      "metadata": {
        "id": "UcR8KIZpDS21"
      },
      "execution_count": null,
      "outputs": []
    },
    {
      "cell_type": "code",
      "source": [
        "# 모델 컴파일\n",
        "model.compile(optimizer=Adam(learning_rate=0.1),   # 학습률 0.1\n",
        "              loss='mean_squared_error')   # 손실 함수 MSE 사용"
      ],
      "metadata": {
        "id": "r6OeFbjpDd78"
      },
      "execution_count": null,
      "outputs": []
    },
    {
      "cell_type": "code",
      "source": [
        "# 모델 학습\n",
        "model.fit(x_train, y_train, epochs=100)   # 100회 반복"
      ],
      "metadata": {
        "id": "buH6w2x4D_cq",
        "colab": {
          "base_uri": "https://localhost:8080/"
        },
        "outputId": "b0567d16-d791-41a2-8782-931990a79e93"
      },
      "execution_count": null,
      "outputs": [
        {
          "output_type": "stream",
          "name": "stdout",
          "text": [
            "Epoch 1/100\n",
            "1/1 [==============================] - 1s 966ms/step - loss: 0.2466\n",
            "Epoch 2/100\n",
            "1/1 [==============================] - 0s 14ms/step - loss: 0.2126\n",
            "Epoch 3/100\n",
            "1/1 [==============================] - 0s 14ms/step - loss: 0.1853\n",
            "Epoch 4/100\n",
            "1/1 [==============================] - 0s 14ms/step - loss: 0.1649\n",
            "Epoch 5/100\n",
            "1/1 [==============================] - 0s 10ms/step - loss: 0.1506\n",
            "Epoch 6/100\n",
            "1/1 [==============================] - 0s 9ms/step - loss: 0.1413\n",
            "Epoch 7/100\n",
            "1/1 [==============================] - 0s 10ms/step - loss: 0.1354\n",
            "Epoch 8/100\n",
            "1/1 [==============================] - 0s 10ms/step - loss: 0.1317\n",
            "Epoch 9/100\n",
            "1/1 [==============================] - 0s 9ms/step - loss: 0.1292\n",
            "Epoch 10/100\n",
            "1/1 [==============================] - 0s 12ms/step - loss: 0.1272\n",
            "Epoch 11/100\n",
            "1/1 [==============================] - 0s 10ms/step - loss: 0.1253\n",
            "Epoch 12/100\n",
            "1/1 [==============================] - 0s 9ms/step - loss: 0.1232\n",
            "Epoch 13/100\n",
            "1/1 [==============================] - 0s 13ms/step - loss: 0.1209\n",
            "Epoch 14/100\n",
            "1/1 [==============================] - 0s 11ms/step - loss: 0.1182\n",
            "Epoch 15/100\n",
            "1/1 [==============================] - 0s 10ms/step - loss: 0.1151\n",
            "Epoch 16/100\n",
            "1/1 [==============================] - 0s 9ms/step - loss: 0.1118\n",
            "Epoch 17/100\n",
            "1/1 [==============================] - 0s 11ms/step - loss: 0.1082\n",
            "Epoch 18/100\n",
            "1/1 [==============================] - 0s 10ms/step - loss: 0.1043\n",
            "Epoch 19/100\n",
            "1/1 [==============================] - 0s 9ms/step - loss: 0.1003\n",
            "Epoch 20/100\n",
            "1/1 [==============================] - 0s 10ms/step - loss: 0.0962\n",
            "Epoch 21/100\n",
            "1/1 [==============================] - 0s 10ms/step - loss: 0.0920\n",
            "Epoch 22/100\n",
            "1/1 [==============================] - 0s 10ms/step - loss: 0.0878\n",
            "Epoch 23/100\n",
            "1/1 [==============================] - 0s 13ms/step - loss: 0.0838\n",
            "Epoch 24/100\n",
            "1/1 [==============================] - 0s 17ms/step - loss: 0.0798\n",
            "Epoch 25/100\n",
            "1/1 [==============================] - 0s 12ms/step - loss: 0.0761\n",
            "Epoch 26/100\n",
            "1/1 [==============================] - 0s 12ms/step - loss: 0.0725\n",
            "Epoch 27/100\n",
            "1/1 [==============================] - 0s 11ms/step - loss: 0.0692\n",
            "Epoch 28/100\n",
            "1/1 [==============================] - 0s 11ms/step - loss: 0.0662\n",
            "Epoch 29/100\n",
            "1/1 [==============================] - 0s 10ms/step - loss: 0.0634\n",
            "Epoch 30/100\n",
            "1/1 [==============================] - 0s 10ms/step - loss: 0.0608\n",
            "Epoch 31/100\n",
            "1/1 [==============================] - 0s 10ms/step - loss: 0.0585\n",
            "Epoch 32/100\n",
            "1/1 [==============================] - 0s 11ms/step - loss: 0.0564\n",
            "Epoch 33/100\n",
            "1/1 [==============================] - 0s 11ms/step - loss: 0.0544\n",
            "Epoch 34/100\n",
            "1/1 [==============================] - 0s 11ms/step - loss: 0.0526\n",
            "Epoch 35/100\n",
            "1/1 [==============================] - 0s 10ms/step - loss: 0.0509\n",
            "Epoch 36/100\n",
            "1/1 [==============================] - 0s 11ms/step - loss: 0.0492\n",
            "Epoch 37/100\n",
            "1/1 [==============================] - 0s 11ms/step - loss: 0.0476\n",
            "Epoch 38/100\n",
            "1/1 [==============================] - 0s 10ms/step - loss: 0.0460\n",
            "Epoch 39/100\n",
            "1/1 [==============================] - 0s 10ms/step - loss: 0.0445\n",
            "Epoch 40/100\n",
            "1/1 [==============================] - 0s 10ms/step - loss: 0.0429\n",
            "Epoch 41/100\n",
            "1/1 [==============================] - 0s 10ms/step - loss: 0.0414\n",
            "Epoch 42/100\n",
            "1/1 [==============================] - 0s 10ms/step - loss: 0.0399\n",
            "Epoch 43/100\n",
            "1/1 [==============================] - 0s 12ms/step - loss: 0.0384\n",
            "Epoch 44/100\n",
            "1/1 [==============================] - 0s 11ms/step - loss: 0.0370\n",
            "Epoch 45/100\n",
            "1/1 [==============================] - 0s 10ms/step - loss: 0.0357\n",
            "Epoch 46/100\n",
            "1/1 [==============================] - 0s 10ms/step - loss: 0.0344\n",
            "Epoch 47/100\n",
            "1/1 [==============================] - 0s 11ms/step - loss: 0.0331\n",
            "Epoch 48/100\n",
            "1/1 [==============================] - 0s 10ms/step - loss: 0.0320\n",
            "Epoch 49/100\n",
            "1/1 [==============================] - 0s 10ms/step - loss: 0.0308\n",
            "Epoch 50/100\n",
            "1/1 [==============================] - 0s 13ms/step - loss: 0.0298\n",
            "Epoch 51/100\n",
            "1/1 [==============================] - 0s 11ms/step - loss: 0.0288\n",
            "Epoch 52/100\n",
            "1/1 [==============================] - 0s 10ms/step - loss: 0.0279\n",
            "Epoch 53/100\n",
            "1/1 [==============================] - 0s 12ms/step - loss: 0.0270\n",
            "Epoch 54/100\n",
            "1/1 [==============================] - 0s 9ms/step - loss: 0.0262\n",
            "Epoch 55/100\n",
            "1/1 [==============================] - 0s 11ms/step - loss: 0.0254\n",
            "Epoch 56/100\n",
            "1/1 [==============================] - 0s 12ms/step - loss: 0.0247\n",
            "Epoch 57/100\n",
            "1/1 [==============================] - 0s 12ms/step - loss: 0.0239\n",
            "Epoch 58/100\n",
            "1/1 [==============================] - 0s 11ms/step - loss: 0.0233\n",
            "Epoch 59/100\n",
            "1/1 [==============================] - 0s 10ms/step - loss: 0.0226\n",
            "Epoch 60/100\n",
            "1/1 [==============================] - 0s 9ms/step - loss: 0.0220\n",
            "Epoch 61/100\n",
            "1/1 [==============================] - 0s 9ms/step - loss: 0.0214\n",
            "Epoch 62/100\n",
            "1/1 [==============================] - 0s 10ms/step - loss: 0.0208\n",
            "Epoch 63/100\n",
            "1/1 [==============================] - 0s 10ms/step - loss: 0.0203\n",
            "Epoch 64/100\n",
            "1/1 [==============================] - 0s 9ms/step - loss: 0.0197\n",
            "Epoch 65/100\n",
            "1/1 [==============================] - 0s 9ms/step - loss: 0.0192\n",
            "Epoch 66/100\n",
            "1/1 [==============================] - 0s 10ms/step - loss: 0.0187\n",
            "Epoch 67/100\n",
            "1/1 [==============================] - 0s 15ms/step - loss: 0.0183\n",
            "Epoch 68/100\n",
            "1/1 [==============================] - 0s 11ms/step - loss: 0.0178\n",
            "Epoch 69/100\n",
            "1/1 [==============================] - 0s 11ms/step - loss: 0.0174\n",
            "Epoch 70/100\n",
            "1/1 [==============================] - 0s 11ms/step - loss: 0.0169\n",
            "Epoch 71/100\n",
            "1/1 [==============================] - 0s 11ms/step - loss: 0.0165\n",
            "Epoch 72/100\n",
            "1/1 [==============================] - 0s 11ms/step - loss: 0.0161\n",
            "Epoch 73/100\n",
            "1/1 [==============================] - 0s 10ms/step - loss: 0.0158\n",
            "Epoch 74/100\n",
            "1/1 [==============================] - 0s 10ms/step - loss: 0.0154\n",
            "Epoch 75/100\n",
            "1/1 [==============================] - 0s 11ms/step - loss: 0.0151\n",
            "Epoch 76/100\n",
            "1/1 [==============================] - 0s 10ms/step - loss: 0.0147\n",
            "Epoch 77/100\n",
            "1/1 [==============================] - 0s 13ms/step - loss: 0.0144\n",
            "Epoch 78/100\n",
            "1/1 [==============================] - 0s 15ms/step - loss: 0.0141\n",
            "Epoch 79/100\n",
            "1/1 [==============================] - 0s 10ms/step - loss: 0.0138\n",
            "Epoch 80/100\n",
            "1/1 [==============================] - 0s 10ms/step - loss: 0.0135\n",
            "Epoch 81/100\n",
            "1/1 [==============================] - 0s 11ms/step - loss: 0.0132\n",
            "Epoch 82/100\n",
            "1/1 [==============================] - 0s 11ms/step - loss: 0.0130\n",
            "Epoch 83/100\n",
            "1/1 [==============================] - 0s 10ms/step - loss: 0.0127\n",
            "Epoch 84/100\n",
            "1/1 [==============================] - 0s 17ms/step - loss: 0.0125\n",
            "Epoch 85/100\n",
            "1/1 [==============================] - 0s 11ms/step - loss: 0.0122\n",
            "Epoch 86/100\n",
            "1/1 [==============================] - 0s 10ms/step - loss: 0.0120\n",
            "Epoch 87/100\n",
            "1/1 [==============================] - 0s 11ms/step - loss: 0.0118\n",
            "Epoch 88/100\n",
            "1/1 [==============================] - 0s 12ms/step - loss: 0.0116\n",
            "Epoch 89/100\n",
            "1/1 [==============================] - 0s 11ms/step - loss: 0.0113\n",
            "Epoch 90/100\n",
            "1/1 [==============================] - 0s 11ms/step - loss: 0.0111\n",
            "Epoch 91/100\n",
            "1/1 [==============================] - 0s 10ms/step - loss: 0.0109\n",
            "Epoch 92/100\n",
            "1/1 [==============================] - 0s 13ms/step - loss: 0.0107\n",
            "Epoch 93/100\n",
            "1/1 [==============================] - 0s 15ms/step - loss: 0.0106\n",
            "Epoch 94/100\n",
            "1/1 [==============================] - 0s 16ms/step - loss: 0.0104\n",
            "Epoch 95/100\n",
            "1/1 [==============================] - 0s 13ms/step - loss: 0.0102\n",
            "Epoch 96/100\n",
            "1/1 [==============================] - 0s 10ms/step - loss: 0.0100\n",
            "Epoch 97/100\n",
            "1/1 [==============================] - 0s 12ms/step - loss: 0.0099\n",
            "Epoch 98/100\n",
            "1/1 [==============================] - 0s 12ms/step - loss: 0.0097\n",
            "Epoch 99/100\n",
            "1/1 [==============================] - 0s 11ms/step - loss: 0.0095\n",
            "Epoch 100/100\n",
            "1/1 [==============================] - 0s 9ms/step - loss: 0.0094\n"
          ]
        },
        {
          "output_type": "execute_result",
          "data": {
            "text/plain": [
              "<keras.src.callbacks.History at 0x788609037e80>"
            ]
          },
          "metadata": {},
          "execution_count": 3
        }
      ]
    },
    {
      "cell_type": "code",
      "source": [
        "# 모델 예측\n",
        "x_test = np.array([[0, 0], [0, 1], [1, 0], [1, 1]])   # 테스트 데이터\n",
        "y_test = np.array([[0], [1], [1], [1]])               # 테스트 정답\n",
        "\n",
        "model.predict(x_test).round(2)   # 예측"
      ],
      "metadata": {
        "colab": {
          "base_uri": "https://localhost:8080/"
        },
        "outputId": "c7daced3-b96a-497a-b6b6-99021b4765c6",
        "id": "sR-qgOPDD4RY"
      },
      "execution_count": null,
      "outputs": [
        {
          "output_type": "stream",
          "name": "stdout",
          "text": [
            "1/1 [==============================] - 0s 75ms/step\n"
          ]
        },
        {
          "output_type": "execute_result",
          "data": {
            "text/plain": [
              "array([[0.15],\n",
              "       [0.91],\n",
              "       [0.91],\n",
              "       [1.  ]], dtype=float32)"
            ]
          },
          "metadata": {},
          "execution_count": 4
        }
      ]
    },
    {
      "cell_type": "code",
      "source": [
        "# 학습 후 가중치와 바이어스 확인\n",
        "weights, bias = model.layers[0].get_weights()\n",
        "\n",
        "print(f\"weights: {weights.round(2)} \\n bias: {bias.round(2)}\")"
      ],
      "metadata": {
        "colab": {
          "base_uri": "https://localhost:8080/"
        },
        "outputId": "4fc14325-aaab-4ac3-e6d5-4b1326ef88ae",
        "id": "GRuJmtHrDyGD"
      },
      "execution_count": null,
      "outputs": [
        {
          "output_type": "stream",
          "name": "stdout",
          "text": [
            "weights: [[4.1]\n",
            " [4.1]] \n",
            " bias: [-1.77]\n"
          ]
        }
      ]
    },
    {
      "cell_type": "code",
      "source": [
        "# 예제 3.5 다중 출력 단층 신경망 이진 분류(OR 연산)\n",
        "\n",
        "# 셋업\n",
        "import tensorflow as tf\n",
        "from tensorflow.keras.models import Sequential\n",
        "from tensorflow.keras.layers import Dense\n",
        "from tensorflow.keras.initializers import RandomNormal\n",
        "from tensorflow.keras.optimizers import Adam\n",
        "import numpy as np\n",
        "\n",
        "# 학습 데이터 준비\n",
        "x_train = np.array([[0, 0], [0, 1], [1, 0], [1, 1]])   # 학습 데이터\n",
        "y_train = np.array([[1, 0], [0, 1], [0, 1], [0, 1]])   # 출력 원핫 인코딩\n",
        "\n",
        "# 모델 생성\n",
        "model = Sequential([\n",
        "    Dense(2,                                          # 출력층 뉴런 2개\n",
        "          activation='softmax',                       # softmax 함수 사용\n",
        "          kernel_initializer=RandomNormal(seed=77),   # 가중치 초기화\n",
        "          input_shape=(2, ), name='Output_Layer')     # 입력 shape 지정\n",
        "])"
      ],
      "metadata": {
        "id": "PonCzO3LgAs3"
      },
      "execution_count": null,
      "outputs": []
    },
    {
      "cell_type": "code",
      "source": [
        "# 모델 컴파일\n",
        "model.compile(optimizer=Adam(learning_rate=0.1),          # 학습률 0.1\n",
        "              loss='binary_crossentropy')   # binary_crossentropy 사용"
      ],
      "metadata": {
        "id": "eau0OBt6f7PJ"
      },
      "execution_count": null,
      "outputs": []
    },
    {
      "cell_type": "code",
      "source": [
        "# 모델 학습\n",
        "model.fit(x_train, y_train, epochs=100, verbose=0)   # 100회 반복"
      ],
      "metadata": {
        "colab": {
          "base_uri": "https://localhost:8080/"
        },
        "outputId": "5b9a6e51-6ebd-4e99-909b-dff26dfc96c9",
        "id": "kvmVEZdngWz6"
      },
      "execution_count": null,
      "outputs": [
        {
          "output_type": "execute_result",
          "data": {
            "text/plain": [
              "<keras.callbacks.History at 0x7fdbf03d10a0>"
            ]
          },
          "metadata": {},
          "execution_count": 3
        }
      ]
    },
    {
      "cell_type": "code",
      "source": [
        "# 모델 예측\n",
        "x_test = np.array([[0, 0], [0, 1], [1, 0], [1, 1]])   # 테스트 데이터\n",
        "y_test = np.array([[1, 0], [0, 1], [0, 1], [0, 1]])   # 테스트 정답\n",
        "\n",
        "model.predict(x_test).round(2)   # 예측"
      ],
      "metadata": {
        "colab": {
          "base_uri": "https://localhost:8080/"
        },
        "outputId": "d52d4704-939e-45ce-9c9e-fa23a589746b",
        "id": "l8AC3p1Qghgd"
      },
      "execution_count": null,
      "outputs": [
        {
          "output_type": "stream",
          "name": "stdout",
          "text": [
            "1/1 [==============================] - 0s 56ms/step\n"
          ]
        },
        {
          "output_type": "execute_result",
          "data": {
            "text/plain": [
              "array([[0.98, 0.02],\n",
              "       [0.  , 1.  ],\n",
              "       [0.  , 1.  ],\n",
              "       [0.  , 1.  ]], dtype=float32)"
            ]
          },
          "metadata": {},
          "execution_count": 4
        }
      ]
    },
    {
      "cell_type": "code",
      "source": [
        "# 학습 후 가중치와 바이어스 확인\n",
        "weights, bias = model.layers[0].get_weights()\n",
        "\n",
        "print(f\"weights: {weights.round(2)} \\n bias: {bias.round(2)}\")"
      ],
      "metadata": {
        "colab": {
          "base_uri": "https://localhost:8080/"
        },
        "outputId": "7444ff76-e803-44cd-9be4-d4bd23e0e74e",
        "id": "JBuda7FBgmA2"
      },
      "execution_count": null,
      "outputs": [
        {
          "output_type": "stream",
          "name": "stdout",
          "text": [
            "weights: [[-4.82  4.98]\n",
            " [-4.82  5.04]] \n",
            " bias: [ 1.91 -2.01]\n"
          ]
        }
      ]
    },
    {
      "cell_type": "code",
      "source": [
        "# 예제 3.6 선형 회귀 단층 신경망(텐서플로)\n",
        "\n",
        "# 셋업\n",
        "import tensorflow as tf\n",
        "from tensorflow.keras.models import Sequential\n",
        "from tensorflow.keras.layers import Dense\n",
        "from tensorflow.keras.initializers import RandomNormal\n",
        "from tensorflow.keras.optimizers import Adam\n",
        "from sklearn.model_selection import train_test_split\n",
        "import numpy as np\n",
        "import matplotlib.pyplot as plt"
      ],
      "metadata": {
        "id": "uk6ZJuxan-Ar"
      },
      "execution_count": null,
      "outputs": []
    },
    {
      "cell_type": "code",
      "source": [
        "# 데이터셋 준비\n",
        "np.random.seed(777)\n",
        "x_train = np.random.uniform(0, 10, 200)   # 0 ~ 10의 균등 분포 랜덤값 200개\n",
        "y_train = 2 * x_train + 1 + np.random.randn(200)   # 정규 분포 랜덤값 200개\n",
        "\n",
        "print(x_train.shape, y_train.shape, \"\\n\")   # x_train와 y_train shape 확인\n",
        "print(f\"x_train: {x_train[:3].round(1)}\")   # 처음 3개 샘플 확인\n",
        "print(f\"y_train: {y_train[:3].round(1)}\")"
      ],
      "metadata": {
        "colab": {
          "base_uri": "https://localhost:8080/"
        },
        "outputId": "008d8028-6e13-4f70-e30f-7f8e9a7fdef2",
        "id": "VXMH_PYdcYzF"
      },
      "execution_count": null,
      "outputs": [
        {
          "output_type": "stream",
          "name": "stdout",
          "text": [
            "(200,) (200,) \n",
            "\n",
            "x_train: [1.5 3.  0.6]\n",
            "y_train: [4.2 8.6 2.1]\n"
          ]
        }
      ]
    },
    {
      "cell_type": "code",
      "source": [
        "# 데이터 시각화\n",
        "x = np.arange(0, 10, 0.1)\n",
        "y = 2 * x + 1\n",
        "\n",
        "plt.scatter(x_train[:50], y_train[:50])   # 처음 50개 샘플 표현\n",
        "plt.plot(x, y, color='black')\n",
        "plt.xlabel('x')\n",
        "plt.ylabel('y')\n",
        "\n",
        "plt.show()"
      ],
      "metadata": {
        "colab": {
          "base_uri": "https://localhost:8080/",
          "height": 279
        },
        "outputId": "4b63a004-bb53-4f62-987c-69023398bb92",
        "id": "fZOFqLAv26KH"
      },
      "execution_count": null,
      "outputs": [
        {
          "output_type": "display_data",
          "data": {
            "text/plain": [
              "<Figure size 432x288 with 1 Axes>"
            ],
            "image/png": "[encoded data removed]"
          },
          "metadata": {
            "needs_background": "light"
          }
        }
      ]
    },
    {
      "cell_type": "code",
      "source": [
        "# 학습 데이터/테스트 데이터 분할\n",
        "x_train, x_test, y_train, y_test = train_test_split(\n",
        "    x_train, y_train,\n",
        "    test_size=0.2, # 분할 비율 0.2\n",
        "    random_state=77)\n",
        "\n",
        "print(x_train.shape, y_train.shape)\n",
        "print(x_test.shape, y_test.shape)"
      ],
      "metadata": {
        "colab": {
          "base_uri": "https://localhost:8080/"
        },
        "outputId": "047ce8e9-c982-41c5-e7a9-e9caed94c93b",
        "id": "yQ2l_BYEotu2"
      },
      "execution_count": null,
      "outputs": [
        {
          "output_type": "stream",
          "name": "stdout",
          "text": [
            "(160,) (160,)\n",
            "(40,) (40,)\n"
          ]
        }
      ]
    },
    {
      "cell_type": "code",
      "source": [
        "# 모델 생성\n",
        "model = Sequential(name='linear_regression_model')   # 모델 이름 지정\n",
        "model.add(Dense(1,   # 출력층 선형 뉴런 1개(활성화 함수 사용하지 않음)\n",
        "                kernel_initializer=RandomNormal(seed=77),\n",
        "                input_shape=(1, ), name='Output_Layer'))   # 입력 1개"
      ],
      "metadata": {
        "id": "dFesOZHuxMOM"
      },
      "execution_count": null,
      "outputs": []
    },
    {
      "cell_type": "code",
      "source": [
        "# 모델 구조 요약\n",
        "model.summary()"
      ],
      "metadata": {
        "colab": {
          "base_uri": "https://localhost:8080/"
        },
        "id": "EqiHi8nxHQZC",
        "outputId": "51e92c46-6359-4443-ad4a-d31c9398c8fc"
      },
      "execution_count": null,
      "outputs": [
        {
          "output_type": "stream",
          "name": "stdout",
          "text": [
            "Model: \"linear_regression_model\"\n",
            "_________________________________________________________________\n",
            " Layer (type)                Output Shape              Param #   \n",
            "=================================================================\n",
            " Output_Layer (Dense)        (None, 1)                 2         \n",
            "                                                                 \n",
            "=================================================================\n",
            "Total params: 2\n",
            "Trainable params: 2\n",
            "Non-trainable params: 0\n",
            "_________________________________________________________________\n"
          ]
        }
      ]
    },
    {
      "cell_type": "code",
      "source": [
        "#  모델 컴파일\n",
        "model.compile(optimizer=Adam(learning_rate=0.1),\n",
        "              loss='mse',      # 손실 함수 MSE 사용\n",
        "              metrics=['mae'])   # 성능 평가 지표 MAE 사용"
      ],
      "metadata": {
        "id": "g3XTY1k8ozvG"
      },
      "execution_count": null,
      "outputs": []
    },
    {
      "cell_type": "code",
      "source": [
        "# 모델 학습\n",
        "model.fit(x_train, y_train, epochs=50, verbose=1)"
      ],
      "metadata": {
        "colab": {
          "base_uri": "https://localhost:8080/"
        },
        "outputId": "c3ad18c6-f187-4c0d-cf9d-5fedd9b03c2b",
        "id": "6kZowUVno8b8"
      },
      "execution_count": null,
      "outputs": [
        {
          "output_type": "stream",
          "name": "stdout",
          "text": [
            "Epoch 1/50\n",
            "5/5 [==============================] - 1s 9ms/step - loss: 122.1086 - mae: 9.6636\n",
            "Epoch 2/50\n",
            "5/5 [==============================] - 0s 16ms/step - loss: 61.7291 - mae: 6.7847\n",
            "Epoch 3/50\n",
            "5/5 [==============================] - 0s 15ms/step - loss: 23.5564 - mae: 4.1073\n",
            "Epoch 4/50\n",
            "5/5 [==============================] - 0s 11ms/step - loss: 6.0074 - mae: 2.0071\n",
            "Epoch 5/50\n",
            "5/5 [==============================] - 0s 9ms/step - loss: 1.2229 - mae: 0.8840\n",
            "Epoch 6/50\n",
            "5/5 [==============================] - 0s 6ms/step - loss: 2.5496 - mae: 1.3579\n",
            "Epoch 7/50\n",
            "5/5 [==============================] - 0s 9ms/step - loss: 4.0001 - mae: 1.7598\n",
            "Epoch 8/50\n",
            "5/5 [==============================] - 0s 3ms/step - loss: 3.6612 - mae: 1.6741\n",
            "Epoch 9/50\n",
            "5/5 [==============================] - 0s 6ms/step - loss: 2.3384 - mae: 1.2958\n",
            "Epoch 10/50\n",
            "5/5 [==============================] - 0s 3ms/step - loss: 1.3095 - mae: 0.9157\n",
            "Epoch 11/50\n",
            "5/5 [==============================] - 0s 3ms/step - loss: 1.0738 - mae: 0.8374\n",
            "Epoch 12/50\n",
            "5/5 [==============================] - 0s 7ms/step - loss: 1.1259 - mae: 0.8622\n",
            "Epoch 13/50\n",
            "5/5 [==============================] - 0s 5ms/step - loss: 1.1910 - mae: 0.8875\n",
            "Epoch 14/50\n",
            "5/5 [==============================] - 0s 4ms/step - loss: 1.1263 - mae: 0.8662\n",
            "Epoch 15/50\n",
            "5/5 [==============================] - 0s 4ms/step - loss: 1.0469 - mae: 0.8306\n",
            "Epoch 16/50\n",
            "5/5 [==============================] - 0s 4ms/step - loss: 0.9972 - mae: 0.8084\n",
            "Epoch 17/50\n",
            "5/5 [==============================] - 0s 5ms/step - loss: 0.9917 - mae: 0.8022\n",
            "Epoch 18/50\n",
            "5/5 [==============================] - 0s 4ms/step - loss: 0.9928 - mae: 0.8011\n",
            "Epoch 19/50\n",
            "5/5 [==============================] - 0s 4ms/step - loss: 0.9866 - mae: 0.7999\n",
            "Epoch 20/50\n",
            "5/5 [==============================] - 0s 5ms/step - loss: 0.9700 - mae: 0.7944\n",
            "Epoch 21/50\n",
            "5/5 [==============================] - 0s 8ms/step - loss: 0.9639 - mae: 0.7940\n",
            "Epoch 22/50\n",
            "5/5 [==============================] - 0s 6ms/step - loss: 0.9579 - mae: 0.7915\n",
            "Epoch 23/50\n",
            "5/5 [==============================] - 0s 6ms/step - loss: 0.9529 - mae: 0.7891\n",
            "Epoch 24/50\n",
            "5/5 [==============================] - 0s 5ms/step - loss: 0.9482 - mae: 0.7862\n",
            "Epoch 25/50\n",
            "5/5 [==============================] - 0s 9ms/step - loss: 0.9431 - mae: 0.7830\n",
            "Epoch 26/50\n",
            "5/5 [==============================] - 0s 9ms/step - loss: 0.9383 - mae: 0.7801\n",
            "Epoch 27/50\n",
            "5/5 [==============================] - 0s 6ms/step - loss: 0.9341 - mae: 0.7775\n",
            "Epoch 28/50\n",
            "5/5 [==============================] - 0s 6ms/step - loss: 0.9323 - mae: 0.7753\n",
            "Epoch 29/50\n",
            "5/5 [==============================] - 0s 10ms/step - loss: 0.9290 - mae: 0.7735\n",
            "Epoch 30/50\n",
            "5/5 [==============================] - 0s 9ms/step - loss: 0.9249 - mae: 0.7718\n",
            "Epoch 31/50\n",
            "5/5 [==============================] - 0s 5ms/step - loss: 0.9230 - mae: 0.7708\n",
            "Epoch 32/50\n",
            "5/5 [==============================] - 0s 5ms/step - loss: 0.9189 - mae: 0.7686\n",
            "Epoch 33/50\n",
            "5/5 [==============================] - 0s 8ms/step - loss: 0.9167 - mae: 0.7664\n",
            "Epoch 34/50\n",
            "5/5 [==============================] - 0s 4ms/step - loss: 0.9145 - mae: 0.7644\n",
            "Epoch 35/50\n",
            "5/5 [==============================] - 0s 5ms/step - loss: 0.9125 - mae: 0.7626\n",
            "Epoch 36/50\n",
            "5/5 [==============================] - 0s 6ms/step - loss: 0.9109 - mae: 0.7619\n",
            "Epoch 37/50\n",
            "5/5 [==============================] - 0s 6ms/step - loss: 0.9091 - mae: 0.7618\n",
            "Epoch 38/50\n",
            "5/5 [==============================] - 0s 3ms/step - loss: 0.9086 - mae: 0.7611\n",
            "Epoch 39/50\n",
            "5/5 [==============================] - 0s 3ms/step - loss: 0.9060 - mae: 0.7595\n",
            "Epoch 40/50\n",
            "5/5 [==============================] - 0s 6ms/step - loss: 0.9062 - mae: 0.7586\n",
            "Epoch 41/50\n",
            "5/5 [==============================] - 0s 7ms/step - loss: 0.9053 - mae: 0.7579\n",
            "Epoch 42/50\n",
            "5/5 [==============================] - 0s 5ms/step - loss: 0.9035 - mae: 0.7569\n",
            "Epoch 43/50\n",
            "5/5 [==============================] - 0s 5ms/step - loss: 0.9033 - mae: 0.7571\n",
            "Epoch 44/50\n",
            "5/5 [==============================] - 0s 10ms/step - loss: 0.9034 - mae: 0.7570\n",
            "Epoch 45/50\n",
            "5/5 [==============================] - 0s 16ms/step - loss: 0.9025 - mae: 0.7547\n",
            "Epoch 46/50\n",
            "5/5 [==============================] - 0s 14ms/step - loss: 0.9006 - mae: 0.7541\n",
            "Epoch 47/50\n",
            "5/5 [==============================] - 0s 5ms/step - loss: 0.8994 - mae: 0.7544\n",
            "Epoch 48/50\n",
            "5/5 [==============================] - 0s 8ms/step - loss: 0.8990 - mae: 0.7544\n",
            "Epoch 49/50\n",
            "5/5 [==============================] - 0s 7ms/step - loss: 0.9004 - mae: 0.7533\n",
            "Epoch 50/50\n",
            "5/5 [==============================] - 0s 16ms/step - loss: 0.8984 - mae: 0.7523\n"
          ]
        },
        {
          "output_type": "execute_result",
          "data": {
            "text/plain": [
              "<keras.callbacks.History at 0x7fadaca33e20>"
            ]
          },
          "metadata": {},
          "execution_count": 8
        }
      ]
    },
    {
      "cell_type": "code",
      "source": [
        "# 모델 평가\n",
        "model.evaluate(x_test, y_test)"
      ],
      "metadata": {
        "colab": {
          "base_uri": "https://localhost:8080/"
        },
        "id": "ybbDqZyKajJA",
        "outputId": "df6befa9-7fcd-46a6-f229-d05be0b4b159"
      },
      "execution_count": null,
      "outputs": [
        {
          "output_type": "stream",
          "name": "stdout",
          "text": [
            "2/2 [==============================] - 0s 6ms/step - loss: 1.0518 - mae: 0.8013\n"
          ]
        },
        {
          "output_type": "execute_result",
          "data": {
            "text/plain": [
              "[1.051770567893982, 0.8012847900390625]"
            ]
          },
          "metadata": {},
          "execution_count": 9
        }
      ]
    },
    {
      "cell_type": "code",
      "source": [
        "# 모델 예측\n",
        "x = np.array([1, 3, 5, 7, 9])\n",
        "\n",
        "model.predict(x)"
      ],
      "metadata": {
        "colab": {
          "base_uri": "https://localhost:8080/"
        },
        "outputId": "784e8000-fae9-47ed-a13a-f50a152f7e18",
        "id": "oJVBsQdzpRth"
      },
      "execution_count": null,
      "outputs": [
        {
          "output_type": "stream",
          "name": "stdout",
          "text": [
            "1/1 [==============================] - 0s 73ms/step\n"
          ]
        },
        {
          "output_type": "execute_result",
          "data": {
            "text/plain": [
              "array([[ 3.074566],\n",
              "       [ 7.034502],\n",
              "       [10.994438],\n",
              "       [14.954374],\n",
              "       [18.914312]], dtype=float32)"
            ]
          },
          "metadata": {},
          "execution_count": 10
        }
      ]
    },
    {
      "cell_type": "code",
      "source": [
        "# 학습 후 가중치와 바이어스 확인\n",
        "weight, bias = model.layers[0].weights\n",
        "\n",
        "print(f\"weight: {weight} \\n bias: {bias}\")"
      ],
      "metadata": {
        "colab": {
          "base_uri": "https://localhost:8080/"
        },
        "outputId": "b1d9ce6d-7b4d-4b23-dcec-a0dda1eab862",
        "id": "nPtwwFoHpZ7U"
      },
      "execution_count": null,
      "outputs": [
        {
          "output_type": "stream",
          "name": "stdout",
          "text": [
            "weight: <tf.Variable 'Output_Layer/kernel:0' shape=(1, 1) dtype=float32, numpy=array([[1.9799681]], dtype=float32)> \n",
            " bias: <tf.Variable 'Output_Layer/bias:0' shape=(1,) dtype=float32, numpy=array([1.0945979], dtype=float32)>\n"
          ]
        }
      ]
    },
    {
      "cell_type": "code",
      "source": [
        "# 예제 3.6 선형 회귀(파이토치)\n",
        "\n",
        "# 셋업\n",
        "import torch\n",
        "import torch.nn as nn\n",
        "import torch.optim as optim\n",
        "import torch.nn.init as init\n",
        "import numpy as np"
      ],
      "metadata": {
        "id": "V7_aBL1-phnt"
      },
      "execution_count": null,
      "outputs": []
    },
    {
      "cell_type": "code",
      "source": [
        "# 데이터 준비\n",
        "x_train = init.uniform_(torch.Tensor(200, 1), 0, 10)\n",
        "y_train = (2 * x_train + 1) + init.normal_(torch.FloatTensor(200, 1))\n",
        "\n",
        "print(x_train.shape, y_train.shape)"
      ],
      "metadata": {
        "colab": {
          "base_uri": "https://localhost:8080/"
        },
        "outputId": "9175b024-04d7-4bbc-ca93-8f0f56e59004",
        "id": "RlV5_ljSCN9S"
      },
      "execution_count": null,
      "outputs": [
        {
          "output_type": "stream",
          "name": "stdout",
          "text": [
            "torch.Size([200, 1]) torch.Size([200, 1])\n"
          ]
        }
      ]
    },
    {
      "cell_type": "code",
      "source": [
        "# 모델 생성\n",
        "model = nn.Sequential(\n",
        "    nn.Linear(1, 1))   # 입력 특징 1개, 출력 뉴런 1개"
      ],
      "metadata": {
        "id": "wSR7dIRTqafj"
      },
      "execution_count": null,
      "outputs": []
    },
    {
      "cell_type": "code",
      "source": [
        "# 모델 학습\n",
        "epochs = 100\n",
        "\n",
        "loss_fn = nn.L1Loss()   # 손실 함수 MAE 사용\n",
        "optimizer = optim.Adam(model.parameters(),lr=0.1)\n",
        "\n",
        "for i in range(epochs):\n",
        "    optimizer.zero_grad()             # 그레디언트 초기화\n",
        "    output = model(x_train)           # 출력 구함\n",
        "    loss = loss_fn(output, y_train)   # 오차 계산\n",
        "\n",
        "    loss.backward()    # 역전파\n",
        "    optimizer.step()   # 최적화 수행\n",
        "\n",
        "    if (i+1) % 10 == 0:\n",
        "        print(f\"epoch: {i + 1} \\tloss: {loss}\")"
      ],
      "metadata": {
        "colab": {
          "base_uri": "https://localhost:8080/"
        },
        "outputId": "3b1f900e-f6a0-402b-f125-f4320611201a",
        "id": "ALvy2BkVb7rM"
      },
      "execution_count": null,
      "outputs": [
        {
          "output_type": "stream",
          "name": "stdout",
          "text": [
            "epoch: 10 \tloss: 4.980434417724609\n",
            "epoch: 20 \tloss: 1.0660961866378784\n",
            "epoch: 30 \tloss: 1.0262762308120728\n",
            "epoch: 40 \tloss: 1.0040247440338135\n",
            "epoch: 50 \tloss: 0.8527184128761292\n",
            "epoch: 60 \tloss: 0.7826300859451294\n",
            "epoch: 70 \tloss: 0.7567226886749268\n",
            "epoch: 80 \tloss: 0.7454615831375122\n",
            "epoch: 90 \tloss: 0.7395433783531189\n",
            "epoch: 100 \tloss: 0.7383608818054199\n"
          ]
        }
      ]
    },
    {
      "cell_type": "code",
      "source": [
        "# 모델 예측\n",
        "with torch.no_grad():   # 자동 미분하지 않음\n",
        "    x_test = torch.Tensor([[3], [5], [7], [9]])\n",
        "\n",
        "    predict = model(x_test)\n",
        "\n",
        "    print(predict)"
      ],
      "metadata": {
        "colab": {
          "base_uri": "https://localhost:8080/"
        },
        "outputId": "74258343-cfc7-483e-ba34-84918ade3c2d",
        "id": "tTtNtMr5BZHa"
      },
      "execution_count": null,
      "outputs": [
        {
          "output_type": "stream",
          "name": "stdout",
          "text": [
            "tensor([[ 6.9165],\n",
            "        [10.9732],\n",
            "        [15.0299],\n",
            "        [19.0866]])\n"
          ]
        }
      ]
    },
    {
      "cell_type": "code",
      "source": [
        "# 학습 후 최종 가중치 확인\n",
        "weight, bias = model.parameters()\n",
        "\n",
        "print(f\"weight: {weight} \\n \\n bias: {bias}\")"
      ],
      "metadata": {
        "colab": {
          "base_uri": "https://localhost:8080/"
        },
        "outputId": "2e0b258e-c933-41f0-e413-88901f83f222",
        "id": "gHigqgJBAIQ2"
      },
      "execution_count": null,
      "outputs": [
        {
          "output_type": "stream",
          "name": "stdout",
          "text": [
            "weight: Parameter containing:\n",
            "tensor([[2.0284]], requires_grad=True) \n",
            " \n",
            " bias: Parameter containing:\n",
            "tensor([0.8314], requires_grad=True)\n"
          ]
        }
      ]
    },
    {
      "cell_type": "code",
      "source": [
        "# 예제 3.7 로지스틱 회귀(이진 분류)\n",
        "\n",
        "# 셋업\n",
        "import tensorflow as tf\n",
        "from tensorflow.keras.models import Sequential\n",
        "from tensorflow.keras.layers import Dense\n",
        "from tensorflow.keras.initializers import RandomNormal\n",
        "from tensorflow.keras.optimizers import Adam\n",
        "import numpy as np\n",
        "import matplotlib.pyplot as plt\n",
        "\n",
        "# 학습 데이터 준비\n",
        "x_train = np.array([[1, 1, 0], [1, 0, 0], [0, 0, 1], [0, 1, 1]])   # 학습 데이터\n",
        "y_train = np.array([[0], [0], [1], [1]])                           # 레이블\n",
        "\n",
        "# 모델 생성\n",
        "model = Sequential([\n",
        "    Dense(1,                                          # 출력층 뉴런 1개\n",
        "          activation='sigmoid',                       # sigmoid 함수 사용\n",
        "          kernel_initializer=RandomNormal(seed=77),   # 가중치 초기화\n",
        "          input_shape=(3, ))                          # 입력 특징 3개\n",
        "])"
      ],
      "metadata": {
        "id": "cRUBXXE2wy02"
      },
      "execution_count": null,
      "outputs": []
    },
    {
      "cell_type": "code",
      "source": [
        "# 모델 컴파일\n",
        "model.compile(loss='binary_crossentropy',\n",
        "                                # 손실 함수 binary_crossentropy 사용\n",
        "              optimizer=Adam(learning_rate=0.1))   # 학습률 0.1"
      ],
      "metadata": {
        "id": "IJYgSpuMxP-5"
      },
      "execution_count": null,
      "outputs": []
    },
    {
      "cell_type": "code",
      "source": [
        "# 모델 학습\n",
        "history = model.fit(x_train, y_train, epochs=30, verbose=0)   # 30회 반복"
      ],
      "metadata": {
        "id": "lQVp3qV-xz3h"
      },
      "execution_count": null,
      "outputs": []
    },
    {
      "cell_type": "code",
      "source": [
        "# 학습 결과 시각화\n",
        "epochs = range(1, len(history.history['loss']) + 1)\n",
        "\n",
        "plt.plot(epochs, history.history['loss'], color='black')\n",
        "plt.xlabel('epochs')\n",
        "plt.ylabel('loss')\n",
        "\n",
        "plt.show()"
      ],
      "metadata": {
        "colab": {
          "base_uri": "https://localhost:8080/",
          "height": 279
        },
        "outputId": "45203e47-dd4a-46ea-9fa3-93b9fc59395d",
        "id": "bHDptUgQGflA"
      },
      "execution_count": null,
      "outputs": [
        {
          "output_type": "display_data",
          "data": {
            "text/plain": [
              "<Figure size 432x288 with 1 Axes>"
            ],
            "image/png": "[encoded data removed]"
          },
          "metadata": {
            "needs_background": "light"
          }
        }
      ]
    },
    {
      "cell_type": "code",
      "source": [
        "# 모델 예측\n",
        "x_test = np.array([[1, 1, 0], [1, 0, 0], [0, 0, 1], [0, 1, 1]])  # 테스트 데이터\n",
        "y_test = np.array([[0], [0], [1], [1]])                          # 테스트 정답\n",
        "\n",
        "model.predict(x_test).round(2)   # 예측"
      ],
      "metadata": {
        "colab": {
          "base_uri": "https://localhost:8080/"
        },
        "id": "LPkkll_KxtAk",
        "outputId": "5093b09e-c9a8-4295-9826-018f35b7daba"
      },
      "execution_count": null,
      "outputs": [
        {
          "output_type": "stream",
          "name": "stdout",
          "text": [
            "1/1 [==============================] - 0s 51ms/step\n"
          ]
        },
        {
          "output_type": "execute_result",
          "data": {
            "text/plain": [
              "array([[0.08],\n",
              "       [0.08],\n",
              "       [0.92],\n",
              "       [0.93]], dtype=float32)"
            ]
          },
          "metadata": {},
          "execution_count": 18
        }
      ]
    },
    {
      "cell_type": "code",
      "source": [
        "# 학습 후 가중치와 바이어스 확인\n",
        "weights, bias = model.layers[0].get_weights()\n",
        "\n",
        "print(f\"weights: {weights.round(2)} \\n bias: {bias.round(2)}\")"
      ],
      "metadata": {
        "colab": {
          "base_uri": "https://localhost:8080/"
        },
        "id": "ArgTGGE5xtVP",
        "outputId": "d77fcf0a-7b95-42ec-cd54-f7ba376a49cf"
      },
      "execution_count": null,
      "outputs": [
        {
          "output_type": "stream",
          "name": "stdout",
          "text": [
            "weights: [[-2.48]\n",
            " [ 0.03]\n",
            " [ 2.48]] \n",
            " bias: [0.01]\n"
          ]
        }
      ]
    }
  ]
}