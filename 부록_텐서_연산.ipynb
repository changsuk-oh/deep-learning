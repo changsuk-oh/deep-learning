{
  "nbformat": 4,
  "nbformat_minor": 0,
  "metadata": {
    "colab": {
      "provenance": [],
      "gpuType": "T4"
    },
    "kernelspec": {
      "name": "python3",
      "display_name": "Python 3"
    },
    "language_info": {
      "name": "python"
    },
    "accelerator": "GPU"
  },
  "cells": [
    {
      "cell_type": "markdown",
      "source": [
        "부록 B 텐서(배열) 연산"
      ],
      "metadata": {
        "id": "VZQv_j4O1Y4m"
      }
    },
    {
      "cell_type": "code",
      "source": [
        "# 셋업\n",
        "import numpy as np\n",
        "import tensorflow as tf\n",
        "import torch"
      ],
      "metadata": {
        "id": "SfS7rVYagBv3"
      },
      "execution_count": null,
      "outputs": []
    },
    {
      "cell_type": "code",
      "source": [
        "# shape 확인\n",
        "\n",
        "a = np.array(1)   # 스칼라\n",
        "print(f\"{a.shape} \\n\")\n",
        "\n",
        "b = np.array([1, 2, 3, 4, 5, 6])   # 벡터\n",
        "print(f\"{b.shape} \\n\")\n",
        "\n",
        "c = tf.constant([[1, 2, 3], [4, 5, 6]])   # 행렬\n",
        "print(f\"{c.shape} \\n\")\n",
        "\n",
        "d = torch.tensor([[[1, 2, 3], [4, 5, 6]]])   # 3차원 텐서\n",
        "print(d.shape)"
      ],
      "metadata": {
        "colab": {
          "base_uri": "https://localhost:8080/"
        },
        "outputId": "2dc62326-a4fa-4a4e-8640-b9dc4eba4db9",
        "id": "cq5UBQBhw4Ue"
      },
      "execution_count": null,
      "outputs": [
        {
          "output_type": "stream",
          "name": "stdout",
          "text": [
            "() \n",
            "\n",
            "(6,) \n",
            "\n",
            "(2, 3) \n",
            "\n",
            "torch.Size([1, 2, 3])\n"
          ]
        }
      ]
    },
    {
      "cell_type": "code",
      "source": [
        "# 텐서 변환(텐서플로-넘파이)\n",
        "\n",
        "a = tf.constant([[1, 2, 3], [4, 5, 6]])\n",
        "print(a)\n",
        "\n",
        "b = a.numpy()   # 넘파이 배열로 변환\n",
        "print(f\"\\n{b} \\n\")\n",
        "\n",
        "c = tf.convert_to_tensor(b)   # 텐서로 변환\n",
        "print(c)"
      ],
      "metadata": {
        "colab": {
          "base_uri": "https://localhost:8080/"
        },
        "outputId": "35854df6-3d69-49d5-ba75-a6aaf1163a19",
        "id": "QIRAJrB7gLw6"
      },
      "execution_count": null,
      "outputs": [
        {
          "output_type": "stream",
          "name": "stdout",
          "text": [
            "tf.Tensor(\n",
            "[[1 2 3]\n",
            " [4 5 6]], shape=(2, 3), dtype=int32)\n",
            "\n",
            "[[1 2 3]\n",
            " [4 5 6]] \n",
            "\n",
            "tf.Tensor(\n",
            "[[1 2 3]\n",
            " [4 5 6]], shape=(2, 3), dtype=int32)\n"
          ]
        }
      ]
    },
    {
      "cell_type": "code",
      "source": [
        "# 텐서 변환(파이토치-넘파이)\n",
        "\n",
        "a = torch.tensor([[1, 2, 3], [4, 5, 6]])\n",
        "print(f\"{a} \\n\")\n",
        "\n",
        "b = a.numpy()   # 넘파이 배열로 변환\n",
        "print(f\"{b} \\n\")\n",
        "\n",
        "c = torch.from_numpy(b)   # 텐서로 변환\n",
        "print(c)\n",
        "\n",
        "d = torch.tensor(b)\n",
        "print(f\"\\n{d}\")"
      ],
      "metadata": {
        "colab": {
          "base_uri": "https://localhost:8080/"
        },
        "outputId": "e7829114-82c8-4a6f-dfea-b9709de1f1f0",
        "id": "95Qgz92MsteQ"
      },
      "execution_count": null,
      "outputs": [
        {
          "output_type": "stream",
          "name": "stdout",
          "text": [
            "tensor([[1, 2, 3],\n",
            "        [4, 5, 6]]) \n",
            "\n",
            "[[1 2 3]\n",
            " [4 5 6]] \n",
            "\n",
            "tensor([[1, 2, 3],\n",
            "        [4, 5, 6]])\n",
            "\n",
            "tensor([[1, 2, 3],\n",
            "        [4, 5, 6]])\n"
          ]
        }
      ]
    },
    {
      "cell_type": "code",
      "source": [
        "# 인덱싱/슬라이싱(요소 선택)\n",
        "\n",
        "a = np.array([0, 1, 2, 3, 4, 5, 6, 7, 8, 9])\n",
        "\n",
        "print(a)\n",
        "print(a[0])   # 인덱싱(특정 요소 선택)\n",
        "print(a[5])\n",
        "print(a[-1])\n",
        "print(a[:5])   # 슬라이싱(특정 범위의 요소 선택)\n",
        "print(a[5:])\n",
        "print(f\"{a[5:-1]} \\n\")\n",
        "\n",
        "b = np.array([[1, 2, 3], [4, 5, 6], [7, 8,9]])\n",
        "\n",
        "print(b)\n",
        "print(b[0])\n",
        "print(b[2])\n",
        "print(b[0][1])\n",
        "print(b[0, 1])\n",
        "print(b[1][1:])"
      ],
      "metadata": {
        "colab": {
          "base_uri": "https://localhost:8080/"
        },
        "outputId": "f86d3f54-442b-48ab-ecf5-97ed617f58f6",
        "id": "jDY4U74SOYTW"
      },
      "execution_count": null,
      "outputs": [
        {
          "output_type": "stream",
          "name": "stdout",
          "text": [
            "[0 1 2 3 4 5 6 7 8 9]\n",
            "0\n",
            "5\n",
            "9\n",
            "[0 1 2 3 4]\n",
            "[5 6 7 8 9]\n",
            "[5 6 7 8] \n",
            "\n",
            "[[1 2 3]\n",
            " [4 5 6]\n",
            " [7 8 9]]\n",
            "[1 2 3]\n",
            "[7 8 9]\n",
            "2\n",
            "2\n",
            "[5 6]\n"
          ]
        }
      ]
    },
    {
      "cell_type": "code",
      "source": [
        "# zeros(/ones(0/1 배열 생성)\n",
        "\n",
        "a = np.zeros(2)   # 모든 요소가 0인 배열 생성\n",
        "print(a)\n",
        "\n",
        "b = np.ones((2, 3))   # 모든 요소가 1인 배열 생성\n",
        "print(f\"{b} \\n\")\n",
        "\n",
        "c = tf.zeros(2)\n",
        "print(c)\n",
        "\n",
        "d = tf.ones((2, 3))\n",
        "print(d)\n",
        "\n",
        "e = torch.zeros(2)\n",
        "print(f\"\\n{e}\")\n",
        "\n",
        "f = torch.ones((2, 3))\n",
        "print(f)"
      ],
      "metadata": {
        "colab": {
          "base_uri": "https://localhost:8080/"
        },
        "outputId": "bc01b3ac-4b71-4335-c144-e1d9d291caa6",
        "id": "OeYN9mJ_vrgq"
      },
      "execution_count": null,
      "outputs": [
        {
          "output_type": "stream",
          "name": "stdout",
          "text": [
            "[0. 0.]\n",
            "[[1. 1. 1.]\n",
            " [1. 1. 1.]] \n",
            "\n",
            "tf.Tensor([0. 0.], shape=(2,), dtype=float32)\n",
            "tf.Tensor(\n",
            "[[1. 1. 1.]\n",
            " [1. 1. 1.]], shape=(2, 3), dtype=float32)\n",
            "\n",
            "tensor([0., 0.])\n",
            "tensor([[1., 1., 1.],\n",
            "        [1., 1., 1.]])\n"
          ]
        }
      ]
    },
    {
      "cell_type": "code",
      "source": [
        "# random(난수 생성)\n",
        "\n",
        "np.random.seed(77)\n",
        "a = np.random.randint(1, 10, size=(3, 2))   # 랜덤 정수\n",
        "print(f\"{a} \\n\")\n",
        "\n",
        "b = np.random.randn(2, 3)   # 정규 분포\n",
        "print(f\"{b.round(2)} \\n\")\n",
        "\n",
        "c = np.random.normal(size=(2, 3))   # 정규 분포\n",
        "print(f\"{c.round(2)} \\n\")\n",
        "\n",
        "d = np.random.uniform(size=(2, 3))   # 균등 분포\n",
        "print(f\"{d.round(2)} \\n\")\n",
        "\n",
        "e = tf.random.normal(shape=(3, 2), mean=0, stddev=1)\n",
        "print(f\"{e.numpy().round(2)} \\n\")\n",
        "\n",
        "f = tf.random.uniform(shape=(3, 2), minval=1, maxval=10)\n",
        "print(f\"{f.numpy().round(2)} \\n\")\n",
        "\n",
        "g = torch.rand(3, 2)\n",
        "print(g.numpy().round(2))"
      ],
      "metadata": {
        "id": "RUXUmHVgGpdk",
        "colab": {
          "base_uri": "https://localhost:8080/"
        },
        "outputId": "aedcf4fc-788a-40ed-c7d7-06092d649423"
      },
      "execution_count": null,
      "outputs": [
        {
          "output_type": "stream",
          "name": "stdout",
          "text": [
            "[[8 5]\n",
            " [5 6]\n",
            " [9 1]] \n",
            "\n",
            "[[ 0.77 -0.32  0.81]\n",
            " [ 1.07  1.1  -0.03]] \n",
            "\n",
            "[[-1.32 -0.33  0.18]\n",
            " [ 0.11  0.12 -0.23]] \n",
            "\n",
            "[[0.32 0.86 0.96]\n",
            " [0.98 0.66 0.46]] \n",
            "\n",
            "[[-0.17  0.12]\n",
            " [-0.26  0.12]\n",
            " [-0.03 -0.18]] \n",
            "\n",
            "[[5.97 8.13]\n",
            " [9.43 2.46]\n",
            " [2.81 6.43]] \n",
            "\n",
            "[[0.29 0.82]\n",
            " [0.09 0.3 ]\n",
            " [0.29 0.51]]\n"
          ]
        }
      ]
    },
    {
      "cell_type": "code",
      "source": [
        "# transpose(전치 행렬)\n",
        "\n",
        "a = np.array([[1, 2, 3], [4, 5, 6]])\n",
        "print(f\"{a} \\n\")\n",
        "\n",
        "b = a.transpose(1, 0)\n",
        "print(f\"{b} \\n\")\n",
        "\n",
        "c = a.T\n",
        "print(f\"{c} \\n\")\n",
        "\n",
        "d = tf.transpose(a)\n",
        "print(d)\n",
        "\n",
        "e = torch.transpose(torch.tensor(a), 0, 1)\n",
        "print(f\"\\n{e}\")"
      ],
      "metadata": {
        "colab": {
          "base_uri": "https://localhost:8080/"
        },
        "outputId": "9a498ab3-ea3d-4eba-deb9-757e1bbb1a36",
        "id": "ku-IDxIyIE6d"
      },
      "execution_count": null,
      "outputs": [
        {
          "output_type": "stream",
          "name": "stdout",
          "text": [
            "[[1 2 3]\n",
            " [4 5 6]] \n",
            "\n",
            "[[1 4]\n",
            " [2 5]\n",
            " [3 6]] \n",
            "\n",
            "[[1 4]\n",
            " [2 5]\n",
            " [3 6]] \n",
            "\n",
            "tf.Tensor(\n",
            "[[1 4]\n",
            " [2 5]\n",
            " [3 6]], shape=(3, 2), dtype=int64)\n",
            "\n",
            "tensor([[1, 4],\n",
            "        [2, 5],\n",
            "        [3, 6]])\n"
          ]
        }
      ]
    },
    {
      "cell_type": "code",
      "source": [
        "# matmul(행렬곱)\n",
        "\n",
        "a = np.array([[1, 2], [3, 4]])\n",
        "print(f\"{a} \\n\")\n",
        "\n",
        "b = np.array([[5, 6], [7, 8]])\n",
        "print(f\"{b} \\n\")\n",
        "\n",
        "c = a * b   # 원소 별 곱셈\n",
        "print(f\"{c} \\n\")\n",
        "\n",
        "d = np.dot(a, b)   # 내적\n",
        "print(f\"{d} \\n\")\n",
        "\n",
        "e = np.matmul(a, b)   # 행렬곱\n",
        "print(f\"{e} \\n\")\n",
        "\n",
        "f = tf.matmul(a, b)\n",
        "print(f)\n",
        "\n",
        "g = torch.matmul(torch.tensor(a), torch.tensor(b))\n",
        "print(f\"\\n{g}\")"
      ],
      "metadata": {
        "colab": {
          "base_uri": "https://localhost:8080/"
        },
        "outputId": "3395b625-fa32-4345-9402-489e1657e0b3",
        "id": "kzV7l7YGI5lB"
      },
      "execution_count": null,
      "outputs": [
        {
          "output_type": "stream",
          "name": "stdout",
          "text": [
            "[[1 2]\n",
            " [3 4]] \n",
            "\n",
            "[[5 6]\n",
            " [7 8]] \n",
            "\n",
            "[[ 5 12]\n",
            " [21 32]] \n",
            "\n",
            "[[19 22]\n",
            " [43 50]] \n",
            "\n",
            "[[19 22]\n",
            " [43 50]] \n",
            "\n",
            "tf.Tensor(\n",
            "[[19 22]\n",
            " [43 50]], shape=(2, 2), dtype=int64)\n",
            "\n",
            "tensor([[19, 22],\n",
            "        [43, 50]])\n"
          ]
        }
      ]
    },
    {
      "cell_type": "code",
      "source": [
        "# argmax(최대값 인덱스)\n",
        "\n",
        "a = np.array([[1, 3, 5], [7, 9, 2], [4, 6, 8]])\n",
        "print(f\"{a} \\n\")\n",
        "\n",
        "b = np.argmax(a, axis=0)   # 최대값의 인덱스\n",
        "print(f\"{b} \\n\")\n",
        "\n",
        "c = np.argmax(a, axis=1)\n",
        "print(f\"{c} \\n\")\n",
        "\n",
        "d = np.argmax(a, axis=-1)\n",
        "print(f\"{d} \\n\")\n",
        "\n",
        "e = np.max(a, axis=0)   # 최대값\n",
        "print(f\"{e} \\n\")\n",
        "\n",
        "f = np.max(a, axis=1)\n",
        "print(f)"
      ],
      "metadata": {
        "colab": {
          "base_uri": "https://localhost:8080/"
        },
        "outputId": "e4615ec2-3cb4-45ed-b2a9-22f64dda49c9",
        "id": "Mh6H1b3MKIHk"
      },
      "execution_count": null,
      "outputs": [
        {
          "output_type": "stream",
          "name": "stdout",
          "text": [
            "[[1 3 5]\n",
            " [7 9 2]\n",
            " [4 6 8]] \n",
            "\n",
            "[1 1 2] \n",
            "\n",
            "[2 1 2] \n",
            "\n",
            "[2 1 2] \n",
            "\n",
            "[7 9 8] \n",
            "\n",
            "[5 9 8]\n"
          ]
        }
      ]
    },
    {
      "cell_type": "code",
      "source": [
        "# reshape(shape 변환)\n",
        "\n",
        "a = np.arange(1, 13)\n",
        "print(f\"{a} \\n\")\n",
        "\n",
        "b = a.reshape(3, 4)\n",
        "print(f\"{b} \\n\")\n",
        "\n",
        "c = a.reshape(-1)\n",
        "print(c)"
      ],
      "metadata": {
        "colab": {
          "base_uri": "https://localhost:8080/"
        },
        "outputId": "0dd2e4c6-fa55-4f4d-8bf6-b225cc83588a",
        "id": "JjeoS5p8K6OC"
      },
      "execution_count": null,
      "outputs": [
        {
          "output_type": "stream",
          "name": "stdout",
          "text": [
            "[ 1  2  3  4  5  6  7  8  9 10 11 12] \n",
            "\n",
            "[[ 1  2  3  4]\n",
            " [ 5  6  7  8]\n",
            " [ 9 10 11 12]] \n",
            "\n",
            "[ 1  2  3  4  5  6  7  8  9 10 11 12]\n"
          ]
        }
      ]
    },
    {
      "cell_type": "code",
      "source": [
        "# view(shape 변환)\n",
        "\n",
        "a = torch.tensor([[1, 2, 3],\n",
        "                  [4, 5, 6]])\n",
        "print(f\"{a} \\n\")\n",
        "\n",
        "b = a.view(3, 2)\n",
        "print(f\"{b} \\n\")\n",
        "\n",
        "c = a.view(-1)\n",
        "print(f\"{c} \\n\")\n",
        "\n",
        "d = a.view(1, -1)\n",
        "print(d)"
      ],
      "metadata": {
        "colab": {
          "base_uri": "https://localhost:8080/"
        },
        "outputId": "d993a983-14cf-4ead-b2c8-34206ba9e33e",
        "id": "Z2DGMQ5yLWWw"
      },
      "execution_count": null,
      "outputs": [
        {
          "output_type": "stream",
          "name": "stdout",
          "text": [
            "tensor([[1, 2, 3],\n",
            "        [4, 5, 6]]) \n",
            "\n",
            "tensor([[1, 2],\n",
            "        [3, 4],\n",
            "        [5, 6]]) \n",
            "\n",
            "tensor([1, 2, 3, 4, 5, 6]) \n",
            "\n",
            "tensor([[1, 2, 3, 4, 5, 6]])\n"
          ]
        }
      ]
    },
    {
      "cell_type": "code",
      "source": [
        "# squeeze/unsqueeze(차원 축소/확대)\n",
        "\n",
        "a = torch.tensor([[[1, 2, 3], [4, 5, 6]]])\n",
        "print(f\"{a} \\n\")\n",
        "\n",
        "b = a.squeeze()   # 차원 축소\n",
        "print(f\"{b} \\n\")\n",
        "\n",
        "c = b.unsqueeze(dim=0)   # 차원 확대\n",
        "print(c)"
      ],
      "metadata": {
        "colab": {
          "base_uri": "https://localhost:8080/"
        },
        "outputId": "3cfcfddf-dcba-4cba-b426-4190be89f762",
        "id": "mKUivLN2L1xT"
      },
      "execution_count": null,
      "outputs": [
        {
          "output_type": "stream",
          "name": "stdout",
          "text": [
            "tensor([[[1, 2, 3],\n",
            "         [4, 5, 6]]]) \n",
            "\n",
            "tensor([[1, 2, 3],\n",
            "        [4, 5, 6]]) \n",
            "\n",
            "tensor([[[1, 2, 3],\n",
            "         [4, 5, 6]]])\n"
          ]
        }
      ]
    },
    {
      "cell_type": "code",
      "source": [
        "# item(스칼라 값 추출)\n",
        "\n",
        "a = torch.tensor([[1, 2, 3], [4, 5, 6]])\n",
        "print(f\"{a} \\n\")\n",
        "\n",
        "b = a[1][2]   # 텐서\n",
        "print(b)\n",
        "\n",
        "c = a[1][2].item()   # 텐서에서 스칼라 값 추출\n",
        "print(f\"\\n{c}\")"
      ],
      "metadata": {
        "colab": {
          "base_uri": "https://localhost:8080/"
        },
        "outputId": "022e6186-b5ea-45f1-93e1-db6cfbfd50e0",
        "id": "n-Mk-sI2M5yL"
      },
      "execution_count": null,
      "outputs": [
        {
          "output_type": "stream",
          "name": "stdout",
          "text": [
            "tensor([[1, 2, 3],\n",
            "        [4, 5, 6]]) \n",
            "\n",
            "tensor(6)\n",
            "\n",
            "6\n"
          ]
        }
      ]
    },
    {
      "cell_type": "code",
      "source": [
        "# concatenate/stack(배열 결합)\n",
        "\n",
        "a = np.arange(1, 6).reshape(-1)\n",
        "print(f\"{a} \\n\")\n",
        "\n",
        "b = np.arange(1, 10, 2).reshape(-1)\n",
        "print(f\"{b} \\n\")\n",
        "\n",
        "c = np.concatenate((a, b))   # 배열 연결\n",
        "print(f\"{c} \\n\")\n",
        "\n",
        "d = np.stack((a, b))   # 새로운 축으로 배열 쌓음\n",
        "print(f\"{d} \\n\")\n",
        "\n",
        "e = list(zip(a, b))    # 튜플로 묶어 리스트 생성\n",
        "print(f\"{e} \\n\")\n",
        "\n",
        "f = dict(zip(a, b))    # 딕셔너리 생성\n",
        "print(f)"
      ],
      "metadata": {
        "colab": {
          "base_uri": "https://localhost:8080/"
        },
        "outputId": "df3dd16c-8399-4406-f9c0-89836c9f5502",
        "id": "GXJcnvL7zvU-"
      },
      "execution_count": null,
      "outputs": [
        {
          "output_type": "stream",
          "name": "stdout",
          "text": [
            "[1 2 3 4 5] \n",
            "\n",
            "[1 3 5 7 9] \n",
            "\n",
            "[1 2 3 4 5 1 3 5 7 9] \n",
            "\n",
            "[[1 2 3 4 5]\n",
            " [1 3 5 7 9]] \n",
            "\n",
            "[(1, 1), (2, 3), (3, 5), (4, 7), (5, 9)] \n",
            "\n",
            "{1: 1, 2: 3, 3: 5, 4: 7, 5: 9}\n"
          ]
        }
      ]
    }
  ]
}