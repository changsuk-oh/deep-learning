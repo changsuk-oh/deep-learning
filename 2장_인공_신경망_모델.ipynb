{
  "nbformat": 4,
  "nbformat_minor": 0,
  "metadata": {
    "colab": {
      "provenance": []
    },
    "kernelspec": {
      "name": "python3",
      "display_name": "Python 3"
    },
    "language_info": {
      "name": "python"
    }
  },
  "cells": [
    {
      "cell_type": "markdown",
      "source": [
        "2장 인공 신경망 모델"
      ],
      "metadata": {
        "id": "kYTByfFugfHF"
      }
    },
    {
      "cell_type": "code",
      "source": [
        "# 예제 2.1 뉴런의 출력(텐서플로) 바이어스가 없는 경우\n",
        "\n",
        "import tensorflow as tf\n",
        "\n",
        "# 계단 함수 정의\n",
        "def step_function(net):\n",
        "    if net >= T:   # 임계치 T\n",
        "        return 1\n",
        "    else:\n",
        "        return 0\n",
        "\n",
        "# 뉴런 정의\n",
        "def neuron(x, w):\n",
        "    net = tf.reduce_sum(x * w)   # 입력 가중합\n",
        "    return step_function(net)\n",
        "\n",
        "T = 3   # 임계치 3\n",
        "\n",
        "x = tf.constant([1., 2., 3.])   # 입력\n",
        "w = tf.constant([1., 0.3, 0.5])    # 가중치\n",
        "\n",
        "y = neuron(x, w)\n",
        "\n",
        "print(f\"net: {tf.reduce_sum(x * w):.2f}\")\n",
        "print(f\"y: {y}\")"
      ],
      "metadata": {
        "colab": {
          "base_uri": "https://localhost:8080/"
        },
        "outputId": "ad4c9ea3-fd2e-478c-ffae-ea4f13b623fa",
        "id": "4ORUcaN8mnlW"
      },
      "execution_count": null,
      "outputs": [
        {
          "output_type": "stream",
          "name": "stdout",
          "text": [
            "net: 3.10\n",
            "y: 1\n"
          ]
        }
      ]
    },
    {
      "cell_type": "code",
      "source": [
        "# 예제 2.2 뉴런의 출력(파이토치) 바이어스가 있는 경우\n",
        "\n",
        "import torch\n",
        "\n",
        "# 계단 함수 정의\n",
        "def step_function(net):\n",
        "    if net >= T:   # 임계치 T\n",
        "        return 1\n",
        "    else:\n",
        "        return 0\n",
        "\n",
        "# 뉴런 정의\n",
        "def neuron(x, w, b):\n",
        "    net = torch.sum(x * w) + b   # 가중합\n",
        "    return step_function(net)\n",
        "\n",
        "T = 3   # 임계치 3\n",
        "\n",
        "x = torch.tensor([1., 2., 3.])   # 입력\n",
        "w = torch.tensor([1, 0.3, 0.5])   # 가중치\n",
        "b = torch.tensor(-0.5)   # 바이어스\n",
        "\n",
        "y = neuron(x, w, b)\n",
        "\n",
        "print(f\"net: {torch.sum(x * w) + b:.2f}\")\n",
        "print(f\"y: {y}\")"
      ],
      "metadata": {
        "colab": {
          "base_uri": "https://localhost:8080/"
        },
        "outputId": "348cf674-2db2-43b3-a9c1-f515885421be",
        "id": "pjfPmY6yqw74"
      },
      "execution_count": null,
      "outputs": [
        {
          "output_type": "stream",
          "name": "stdout",
          "text": [
            "net: 2.60\n",
            "y: 0\n"
          ]
        }
      ]
    },
    {
      "cell_type": "code",
      "source": [
        "# 예제 2.3 선형 뉴런(파이썬) 가중치 초기화\n",
        "import numpy as np\n",
        "np.random.seed(7)\n",
        "\n",
        "# 선형 뉴런 정의\n",
        "def linear_neuron(x, w, b):\n",
        "    net = np.dot(x, w) + b\n",
        "    return net\n",
        "\n",
        "x = np.array([1, 2, 3])\n",
        "w = np.random.randn(3)   # 가중치 랜덤 초기화\n",
        "b = np.random.randn()   # 바이어스 랜덤 초기화\n",
        "\n",
        "y = linear_neuron(x, w, b)\n",
        "\n",
        "print(f\"input: {x} \\nweights: {w.round(2)} \\nbias: {b:.2f}\")\n",
        "print(f\"net: {np.dot(x, w) + b:.2f}\")\n",
        "print(f\"y: {y:.2f}\")"
      ],
      "metadata": {
        "colab": {
          "base_uri": "https://localhost:8080/"
        },
        "outputId": "0ee5942b-037b-40fb-9c49-0a3b5fc0876b",
        "id": "xbM5HuMIkCV_"
      },
      "execution_count": null,
      "outputs": [
        {
          "output_type": "stream",
          "name": "stdout",
          "text": [
            "input: [1 2 3] \n",
            "weights: [ 1.69 -0.47  0.03] \n",
            "bias: 0.41\n",
            "net: 1.26\n",
            "y: 1.26\n"
          ]
        }
      ]
    },
    {
      "cell_type": "code",
      "source": [
        "# 예제 2.8 단층 신경망 학습(AND 연산)(파이썬)\n",
        "\n",
        "# 셋업\n",
        "import numpy as np\n",
        "np.random.seed(77)\n",
        "\n",
        "# 계단 함수 정의\n",
        "def step_function(net):\n",
        "    if net >= T:   # 임계치 T\n",
        "        return 1\n",
        "    else:\n",
        "        return 0\n",
        "\n",
        "# 뉴런 정의\n",
        "def neuron(x, w, b):\n",
        "    net = np.dot(x, w) + b   # 입력 가중합\n",
        "    return step_function(net)\n",
        "\n",
        "T = 0   # 임계치 0\n",
        "\n",
        "# 학습 데이터 준비\n",
        "x_train = np.array([[0, 0], [0, 1], [1, 0], [1, 1]])   # 입력 데이터\n",
        "y_train = np.array([[0], [0], [0], [1]])   # 목표치(정답)\n",
        "\n",
        "# 가중치 초기화\n",
        "w = np.random.randn(2)   # 정규 분포(평균 0, 표준편차 1)\n",
        "b = np.random.randn(1)\n",
        "\n",
        "print(f\"initial weights: {w.round(2)}\")\n",
        "print(f\"initial bias: {b.round(2)}\")"
      ],
      "metadata": {
        "colab": {
          "base_uri": "https://localhost:8080/"
        },
        "outputId": "c3a6949a-d99a-4845-9382-e11dea75e8ce",
        "id": "aZFf4zf2hPKs"
      },
      "execution_count": null,
      "outputs": [
        {
          "output_type": "stream",
          "name": "stdout",
          "text": [
            "initial weights: [0.22 0.66]\n",
            "initial bias: [-0.58]\n"
          ]
        }
      ]
    },
    {
      "cell_type": "code",
      "source": [
        "# 초기 가중치의 결과 확인\n",
        "x_init_test = np.array([[0, 0], [0, 1], [1, 0], [1, 1]])\n",
        "y_init_test = np.array([[0], [0], [0], [1]])\n",
        "\n",
        "for i in range(4):\n",
        "    initial_predict = neuron(x_init_test[i], w, b)\n",
        "\n",
        "    print(f\"x: {x_init_test[i]}  y: {y_init_test[i]}  predict: {initial_predict}\")"
      ],
      "metadata": {
        "colab": {
          "base_uri": "https://localhost:8080/"
        },
        "outputId": "d3840ae9-a912-4b45-c884-9d0a5a446b9f",
        "id": "HD2psSUv1g2_"
      },
      "execution_count": null,
      "outputs": [
        {
          "output_type": "stream",
          "name": "stdout",
          "text": [
            "x: [0 0]  y: [0]  predict: 0\n",
            "x: [0 1]  y: [0]  predict: 1\n",
            "x: [1 0]  y: [0]  predict: 0\n",
            "x: [1 1]  y: [1]  predict: 1\n"
          ]
        }
      ]
    },
    {
      "cell_type": "code",
      "source": [
        "# 오차를 이용한 신경망 학습\n",
        "epochs = 10   # 10회 반복\n",
        "learning_rate = 0.01   # 학습률 0.01\n",
        "\n",
        "for i in range(epochs):\n",
        "    loss = 0\n",
        "\n",
        "    for j in range(4):\n",
        "        output = neuron(x_train[j], w, b)   # 출력 구함\n",
        "        error = y_train[j] - output   # 오차(목표치 - 출력) 계산\n",
        "        w += learning_rate * error * x_train[j]   # 가중치 변경\n",
        "        b += learning_rate * error   # 바이어스 변경\n",
        "        loss += error\n",
        "\n",
        "    print(f\"Epoch {i+1} \\t Error: {loss}\")   # 에포크마다 오차 출력\n",
        "\n",
        "print(f\"\\nfinal weights: {w.round(2)}\")\n",
        "print(f\"final bias: {b.round(2)}\")"
      ],
      "metadata": {
        "colab": {
          "base_uri": "https://localhost:8080/"
        },
        "outputId": "85ba22fc-e978-4eac-c81f-e9df33b92812",
        "id": "QBFAEeXEhUl2"
      },
      "execution_count": null,
      "outputs": [
        {
          "output_type": "stream",
          "name": "stdout",
          "text": [
            "Epoch 1 \t Error: [-1]\n",
            "Epoch 2 \t Error: [-1]\n",
            "Epoch 3 \t Error: [-1]\n",
            "Epoch 4 \t Error: [-1]\n",
            "Epoch 5 \t Error: [-1]\n",
            "Epoch 6 \t Error: [0]\n",
            "Epoch 7 \t Error: [0]\n",
            "Epoch 8 \t Error: [0]\n",
            "Epoch 9 \t Error: [0]\n",
            "Epoch 10 \t Error: [0]\n",
            "\n",
            "final weights: [0.22 0.61]\n",
            "final bias: [-0.63]\n"
          ]
        }
      ]
    },
    {
      "cell_type": "code",
      "source": [
        "# 검증(예측)\n",
        "x_test = np.array([[0, 0], [0, 1], [1, 0], [1, 1]])   # 테스트 데이터\n",
        "y_test = np.array([[0], [0], [0], [1]])   # 테스트 정답\n",
        "\n",
        "for i in range(4):\n",
        "    predict = neuron(x_test[i], w, b)   # 예측\n",
        "\n",
        "    print(f\"x: {x_test[i]}  y: {y_test[i]}  predict: {predict}\")"
      ],
      "metadata": {
        "colab": {
          "base_uri": "https://localhost:8080/"
        },
        "outputId": "201ebbb5-71e0-4ef2-a084-b4c384af11b9",
        "id": "e33-n7iOhYlK"
      },
      "execution_count": null,
      "outputs": [
        {
          "output_type": "stream",
          "name": "stdout",
          "text": [
            "x: [0 0]  y: [0]  predict: 0\n",
            "x: [0 1]  y: [0]  predict: 0\n",
            "x: [1 0]  y: [0]  predict: 0\n",
            "x: [1 1]  y: [1]  predict: 1\n"
          ]
        }
      ]
    },
    {
      "cell_type": "code",
      "source": [
        "# 예제 2.9 단극성 계단 함수\n",
        "\n",
        "import numpy as np\n",
        "\n",
        "# 단극성 계단 함수 정의\n",
        "def unipolar_step(net):\n",
        "    if net >= 2:   # 임계치 2\n",
        "        return 1\n",
        "    else:\n",
        "        return 0\n",
        "\n",
        "x = np.array([1, 2])\n",
        "w = np.array([-1, 1])\n",
        "\n",
        "net = np.dot(x, w)   # 입력 가중합\n",
        "y = unipolar_step(net)   # 출력\n",
        "\n",
        "print(f\"net: {net} \\n y: {y}\")"
      ],
      "metadata": {
        "colab": {
          "base_uri": "https://localhost:8080/"
        },
        "outputId": "94e2c144-19f5-4674-a698-c49f0427377c",
        "id": "wGFunnIQ5ncP"
      },
      "execution_count": null,
      "outputs": [
        {
          "output_type": "stream",
          "name": "stdout",
          "text": [
            "net: 1 \n",
            " y: 0\n"
          ]
        }
      ]
    },
    {
      "cell_type": "code",
      "source": [
        "# 예제 2.10 sign 함수(양극성 계단 함수)\n",
        "\n",
        "import numpy as np\n",
        "\n",
        "# sign 함수 정의\n",
        "def sign(net):\n",
        "    if net > 0:   # 임계치 0\n",
        "        return 1\n",
        "    elif net == 0:\n",
        "        return 0\n",
        "    else:\n",
        "        return -1\n",
        "\n",
        "x = np.array([1, 2])\n",
        "w = np.array([-1, 1])\n",
        "\n",
        "net = np.dot(x, w)   # 입력 가중합\n",
        "y = sign(net)   # 출력\n",
        "\n",
        "print(f\"net: {net} \\n y: {y}\")"
      ],
      "metadata": {
        "colab": {
          "base_uri": "https://localhost:8080/"
        },
        "outputId": "f59c933b-21cf-4928-8942-724acf89a7a2",
        "id": "rNl0JasGMXGB"
      },
      "execution_count": null,
      "outputs": [
        {
          "output_type": "stream",
          "name": "stdout",
          "text": [
            "net: 1 \n",
            " y: 1\n"
          ]
        }
      ]
    },
    {
      "cell_type": "code",
      "source": [
        "# 예제 2.11 ReLU 함수\n",
        "\n",
        "import numpy as np\n",
        "\n",
        "# ReLU 함수 정의\n",
        "def relu(net):\n",
        "    if net >= 0:\n",
        "        return net\n",
        "    else:\n",
        "        return 0\n",
        "\n",
        "x = np.array([1, -2])\n",
        "w = np.array([-1, 1])\n",
        "\n",
        "net = np.dot(x, w)   # 입력 가중합\n",
        "y = relu(net)   # 출력\n",
        "\n",
        "print(f\"net: {net} \\n y: {y}\")"
      ],
      "metadata": {
        "colab": {
          "base_uri": "https://localhost:8080/"
        },
        "outputId": "2716a298-8fb1-4f2d-b3bd-4b9d3c3a4741",
        "id": "BBR_Xl9RB3eL"
      },
      "execution_count": null,
      "outputs": [
        {
          "output_type": "stream",
          "name": "stdout",
          "text": [
            "net: -3 \n",
            " y: 0\n"
          ]
        }
      ]
    },
    {
      "cell_type": "code",
      "source": [
        "# 예제 2.12(a) Leaky ReLU 함수\n",
        "\n",
        "# LeakyReLU 함수 정의\n",
        "def leaky_relu(net):\n",
        "    if net >= 0:\n",
        "        return net\n",
        "    else:\n",
        "        return 0.01 * net\n",
        "\n",
        "print(f\"net: -2 \\t y: {leaky_relu(-2)}\")\n",
        "print(f\"net: -5 \\t y: {leaky_relu(-5)}\")"
      ],
      "metadata": {
        "colab": {
          "base_uri": "https://localhost:8080/"
        },
        "outputId": "93d822c2-5a89-468e-e4b1-36ebbb0a090c",
        "id": "B5chNW8sIth3"
      },
      "execution_count": null,
      "outputs": [
        {
          "output_type": "stream",
          "name": "stdout",
          "text": [
            "net: -2 \t y: -0.02\n",
            "net: -5 \t y: -0.05\n"
          ]
        }
      ]
    },
    {
      "cell_type": "code",
      "source": [
        "# 예제 2.12(b) ELU 함수 값\n",
        "\n",
        "import numpy as np\n",
        "\n",
        "# ELU 함수 정의\n",
        "def elu(net):\n",
        "    if net >= 0:\n",
        "        return net\n",
        "    else:\n",
        "        return np.exp(net) - 1\n",
        "\n",
        "print(f\"net: -2 \\t y: {elu(-2):.2f}\")\n",
        "print(f\"net: -5 \\t y: {elu(-5):.2f}\")"
      ],
      "metadata": {
        "colab": {
          "base_uri": "https://localhost:8080/"
        },
        "outputId": "34cc840c-35b0-4d9b-cf93-e4c01c4a2362",
        "id": "gu0ey8vzDFUN"
      },
      "execution_count": null,
      "outputs": [
        {
          "output_type": "stream",
          "name": "stdout",
          "text": [
            "net: -2 \t y: -0.86\n",
            "net: -5 \t y: -0.99\n"
          ]
        }
      ]
    },
    {
      "cell_type": "code",
      "source": [
        "# 예제 2.13 sigmoid 함수\n",
        "\n",
        "import numpy as np\n",
        "\n",
        "# sigmoid 함수 정의\n",
        "def sigmoid(net):\n",
        "    return  1 / (1 + np.exp(-net))\n",
        "\n",
        "x = np.array([1, 2])\n",
        "w = np.array([-1, 1])\n",
        "\n",
        "net = np.dot(x, w)   # 입력 가중합\n",
        "y = sigmoid(net)   # 출력\n",
        "\n",
        "print(f\"net: {net} \\n y: {y:.2f}\")"
      ],
      "metadata": {
        "colab": {
          "base_uri": "https://localhost:8080/"
        },
        "outputId": "f9265366-5031-4122-f65f-d930db84c278",
        "id": "KXEcPo--WjOV"
      },
      "execution_count": null,
      "outputs": [
        {
          "output_type": "stream",
          "name": "stdout",
          "text": [
            "net: 1 \n",
            " y: 0.73\n"
          ]
        }
      ]
    },
    {
      "cell_type": "code",
      "source": [
        "# 예제 2.14 tanh 함수\n",
        "\n",
        "import numpy as np\n",
        "\n",
        "# tanh 함수 정의\n",
        "def tanh(net):\n",
        "    return (np.exp(net) - np.exp(-net)) / (np.exp(net) + np.exp(-net))\n",
        "\n",
        "x = np.array([1, 2])\n",
        "w = np.array([-1, 1])\n",
        "\n",
        "net = np.dot(x, w)   # 입력 가중합\n",
        "y = tanh(net)   # 출력\n",
        "\n",
        "print(f\"net: {net} \\n y: {y:.2f}\")"
      ],
      "metadata": {
        "colab": {
          "base_uri": "https://localhost:8080/"
        },
        "outputId": "6805bbf5-7b3a-4bb4-f6cc-13b2c0177d4e",
        "id": "ocxFPMH2s924"
      },
      "execution_count": null,
      "outputs": [
        {
          "output_type": "stream",
          "name": "stdout",
          "text": [
            "net: 1 \n",
            " y: 0.76\n"
          ]
        }
      ]
    },
    {
      "cell_type": "code",
      "source": [
        "# 예제 2.15 softmax 함수\n",
        "\n",
        "# softmax\n",
        "\n",
        "import numpy as np\n",
        "\n",
        "# softmax 함수 정의\n",
        "def softmax(net):\n",
        "    return np.exp(net) / np.sum(np.exp(net))\n",
        "\n",
        "# 시그모이드 함수 정의\n",
        "def sigmoid(net):\n",
        "    return  1 / (1 + np.exp(-net))\n",
        "\n",
        "x = np.array([[1, 1, 0]])\n",
        "w = np.array([[1, 2, 3], [3, 2, 1]])\n",
        "\n",
        "net = np.matmul(x, w.T).reshape(-1)   # 입력 가중합\n",
        "\n",
        "y1 = softmax(net).round(2)   # softmax 함수 출력\n",
        "y2 = sigmoid(net).round(2)   # sigmoid 함수 출력\n",
        "\n",
        "print(f\"net: {net}\")\n",
        "print(f\"y_softmax: {y1} \\n sum of y_softmax: {np.sum(y1)}\")\n",
        "print(f\"y_sigmoid: {y2} \\n sum of y_sigmoid: {np.sum(y2).round(2)}\")"
      ],
      "metadata": {
        "colab": {
          "base_uri": "https://localhost:8080/"
        },
        "outputId": "25d6d8e9-7ca8-4b46-bfad-56f4af79e742",
        "id": "GP3pZz9Ez_Sp"
      },
      "execution_count": null,
      "outputs": [
        {
          "output_type": "stream",
          "name": "stdout",
          "text": [
            "net: [3 5]\n",
            "y_softmax: [0.12 0.88] \n",
            " sum of y_softmax: 1.0\n",
            "y_sigmoid: [0.95 0.99] \n",
            " sum of y_sigmoid: 1.94\n"
          ]
        }
      ]
    }
  ]
}